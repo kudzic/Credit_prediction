{
 "metadata": {
  "kernelspec": {
   "language": "python",
   "display_name": "Python 3",
   "name": "python3"
  },
  "language_info": {
   "name": "python",
   "version": "3.10.13",
   "mimetype": "text/x-python",
   "codemirror_mode": {
    "name": "ipython",
    "version": 3
   },
   "pygments_lexer": "ipython3",
   "nbconvert_exporter": "python",
   "file_extension": ".py"
  },
  "kaggle": {
   "accelerator": "gpu",
   "dataSources": [
    {
     "sourceId": 8407559,
     "sourceType": "datasetVersion",
     "datasetId": 5003266
    }
   ],
   "dockerImageVersionId": 30698,
   "isInternetEnabled": true,
   "language": "python",
   "sourceType": "notebook",
   "isGpuEnabled": true
  }
 },
 "nbformat_minor": 4,
 "nbformat": 4,
 "cells": [
  {
   "cell_type": "code",
   "source": [
    "import numpy as np\n",
    "import pandas as pd\n",
    "from sklearn.model_selection import train_test_split\n",
    "import matplotlib.pyplot as plt"
   ],
   "metadata": {
    "_uuid": "8f2839f25d086af736a60e9eeb907d3b93b6e0e5",
    "_cell_guid": "b1076dfc-b9ad-4769-8c92-a6c4dae69d19",
    "execution": {
     "iopub.status.busy": "2024-05-15T14:40:58.191891Z",
     "iopub.execute_input": "2024-05-15T14:40:58.192845Z",
     "iopub.status.idle": "2024-05-15T14:40:58.198966Z",
     "shell.execute_reply.started": "2024-05-15T14:40:58.192813Z",
     "shell.execute_reply": "2024-05-15T14:40:58.198108Z"
    },
    "trusted": true
   },
   "execution_count": 56,
   "outputs": []
  },
  {
   "cell_type": "code",
   "source": [
    "df=pd.read_csv(\"/kaggle/input/credit-scores/credit_scores.csv\")\n",
    "df.head()"
   ],
   "metadata": {
    "execution": {
     "iopub.status.busy": "2024-05-15T14:40:58.201120Z",
     "iopub.execute_input": "2024-05-15T14:40:58.201804Z",
     "iopub.status.idle": "2024-05-15T14:40:58.410297Z",
     "shell.execute_reply.started": "2024-05-15T14:40:58.201771Z",
     "shell.execute_reply": "2024-05-15T14:40:58.409274Z"
    },
    "trusted": true
   },
   "execution_count": 57,
   "outputs": [
    {
     "execution_count": 57,
     "output_type": "execute_result",
     "data": {
      "text/plain": "       ID Customer_ID     Month             Name   Age          SSN  \\\n0  0x1608   CUS_0xd40      July    Aaron Maashoh  23.0  821-00-0265   \n1  0x160f  CUS_0x21b1  February  Rick Rothackerj  28.0  004-07-5839   \n2  0x1612  CUS_0x21b1       May  Rick Rothackerj  28.0  004-07-5839   \n3  0x1613  CUS_0x21b1      June  Rick Rothackerj  28.0  004-07-5839   \n4  0x1615  CUS_0x21b1    August  Rick Rothackerj  28.0  004-07-5839   \n\n  Occupation  Annual_Income  Monthly_Inhand_Salary  Num_Bank_Accounts  ...  \\\n0  Scientist       19114.12            1824.843333                3.0  ...   \n1    Teacher       34847.84            3037.986667                2.0  ...   \n2    Teacher       34847.84            3037.986667                2.0  ...   \n3    Teacher       34847.84            3037.986667                2.0  ...   \n4    Teacher       34847.84            3037.986667                2.0  ...   \n\n   Credit_Score  Count_Auto Loan  Count_Credit-Builder Loan  \\\n0          Good              1.0                        1.0   \n1          Good              0.0                        1.0   \n2          Good              0.0                        1.0   \n3          Good              0.0                        1.0   \n4          Good              0.0                        1.0   \n\n   Count_Personal Loan  Count_Home Equity Loan  Count_Not Specified  \\\n0                  1.0                     1.0                  0.0   \n1                  0.0                     0.0                  0.0   \n2                  0.0                     0.0                  0.0   \n3                  0.0                     0.0                  0.0   \n4                  0.0                     0.0                  0.0   \n\n  Count_Mortgage Loan  Count_Student Loan  Count_Debt Consolidation Loan  \\\n0                   0                   0                              0   \n1                   0                   0                              0   \n2                   0                   0                              0   \n3                   0                   0                              0   \n4                   0                   0                              0   \n\n   Count_Payday Loan  \n0                  0  \n1                  0  \n2                  0  \n3                  0  \n4                  0  \n\n[5 rows x 35 columns]",
      "text/html": "<div>\n<style scoped>\n    .dataframe tbody tr th:only-of-type {\n        vertical-align: middle;\n    }\n\n    .dataframe tbody tr th {\n        vertical-align: top;\n    }\n\n    .dataframe thead th {\n        text-align: right;\n    }\n</style>\n<table border=\"1\" class=\"dataframe\">\n  <thead>\n    <tr style=\"text-align: right;\">\n      <th></th>\n      <th>ID</th>\n      <th>Customer_ID</th>\n      <th>Month</th>\n      <th>Name</th>\n      <th>Age</th>\n      <th>SSN</th>\n      <th>Occupation</th>\n      <th>Annual_Income</th>\n      <th>Monthly_Inhand_Salary</th>\n      <th>Num_Bank_Accounts</th>\n      <th>...</th>\n      <th>Credit_Score</th>\n      <th>Count_Auto Loan</th>\n      <th>Count_Credit-Builder Loan</th>\n      <th>Count_Personal Loan</th>\n      <th>Count_Home Equity Loan</th>\n      <th>Count_Not Specified</th>\n      <th>Count_Mortgage Loan</th>\n      <th>Count_Student Loan</th>\n      <th>Count_Debt Consolidation Loan</th>\n      <th>Count_Payday Loan</th>\n    </tr>\n  </thead>\n  <tbody>\n    <tr>\n      <th>0</th>\n      <td>0x1608</td>\n      <td>CUS_0xd40</td>\n      <td>July</td>\n      <td>Aaron Maashoh</td>\n      <td>23.0</td>\n      <td>821-00-0265</td>\n      <td>Scientist</td>\n      <td>19114.12</td>\n      <td>1824.843333</td>\n      <td>3.0</td>\n      <td>...</td>\n      <td>Good</td>\n      <td>1.0</td>\n      <td>1.0</td>\n      <td>1.0</td>\n      <td>1.0</td>\n      <td>0.0</td>\n      <td>0</td>\n      <td>0</td>\n      <td>0</td>\n      <td>0</td>\n    </tr>\n    <tr>\n      <th>1</th>\n      <td>0x160f</td>\n      <td>CUS_0x21b1</td>\n      <td>February</td>\n      <td>Rick Rothackerj</td>\n      <td>28.0</td>\n      <td>004-07-5839</td>\n      <td>Teacher</td>\n      <td>34847.84</td>\n      <td>3037.986667</td>\n      <td>2.0</td>\n      <td>...</td>\n      <td>Good</td>\n      <td>0.0</td>\n      <td>1.0</td>\n      <td>0.0</td>\n      <td>0.0</td>\n      <td>0.0</td>\n      <td>0</td>\n      <td>0</td>\n      <td>0</td>\n      <td>0</td>\n    </tr>\n    <tr>\n      <th>2</th>\n      <td>0x1612</td>\n      <td>CUS_0x21b1</td>\n      <td>May</td>\n      <td>Rick Rothackerj</td>\n      <td>28.0</td>\n      <td>004-07-5839</td>\n      <td>Teacher</td>\n      <td>34847.84</td>\n      <td>3037.986667</td>\n      <td>2.0</td>\n      <td>...</td>\n      <td>Good</td>\n      <td>0.0</td>\n      <td>1.0</td>\n      <td>0.0</td>\n      <td>0.0</td>\n      <td>0.0</td>\n      <td>0</td>\n      <td>0</td>\n      <td>0</td>\n      <td>0</td>\n    </tr>\n    <tr>\n      <th>3</th>\n      <td>0x1613</td>\n      <td>CUS_0x21b1</td>\n      <td>June</td>\n      <td>Rick Rothackerj</td>\n      <td>28.0</td>\n      <td>004-07-5839</td>\n      <td>Teacher</td>\n      <td>34847.84</td>\n      <td>3037.986667</td>\n      <td>2.0</td>\n      <td>...</td>\n      <td>Good</td>\n      <td>0.0</td>\n      <td>1.0</td>\n      <td>0.0</td>\n      <td>0.0</td>\n      <td>0.0</td>\n      <td>0</td>\n      <td>0</td>\n      <td>0</td>\n      <td>0</td>\n    </tr>\n    <tr>\n      <th>4</th>\n      <td>0x1615</td>\n      <td>CUS_0x21b1</td>\n      <td>August</td>\n      <td>Rick Rothackerj</td>\n      <td>28.0</td>\n      <td>004-07-5839</td>\n      <td>Teacher</td>\n      <td>34847.84</td>\n      <td>3037.986667</td>\n      <td>2.0</td>\n      <td>...</td>\n      <td>Good</td>\n      <td>0.0</td>\n      <td>1.0</td>\n      <td>0.0</td>\n      <td>0.0</td>\n      <td>0.0</td>\n      <td>0</td>\n      <td>0</td>\n      <td>0</td>\n      <td>0</td>\n    </tr>\n  </tbody>\n</table>\n<p>5 rows × 35 columns</p>\n</div>"
     },
     "metadata": {}
    }
   ]
  },
  {
   "cell_type": "code",
   "source": [
    "df.describe()"
   ],
   "metadata": {
    "execution": {
     "iopub.status.busy": "2024-05-15T14:40:58.411464Z",
     "iopub.execute_input": "2024-05-15T14:40:58.411757Z",
     "iopub.status.idle": "2024-05-15T14:40:58.501229Z",
     "shell.execute_reply.started": "2024-05-15T14:40:58.411734Z",
     "shell.execute_reply": "2024-05-15T14:40:58.500410Z"
    },
    "trusted": true
   },
   "execution_count": 58,
   "outputs": [
    {
     "execution_count": 58,
     "output_type": "execute_result",
     "data": {
      "text/plain": "                Age  Annual_Income  Monthly_Inhand_Salary  Num_Bank_Accounts  \\\ncount  33400.000000   3.340200e+04           33402.000000       33401.000000   \nmean      32.963503   1.804491e+05            4011.334675          17.670519   \nstd       10.675508   1.461493e+06            3080.699813         121.454304   \nmin       14.000000   7.005930e+03             303.645417          -1.000000   \n25%       24.000000   1.876272e+04            1572.182500           4.000000   \n50%       33.000000   3.594296e+04            2986.635833           6.000000   \n75%       41.000000   6.984559e+04            5712.257083           8.000000   \nmax       95.000000   2.419806e+07           15204.633333        1798.000000   \n\n       Num_Credit_Card  Interest_Rate  Delay_from_due_date  \\\ncount     33401.000000   33401.000000         33399.000000   \nmean         22.108410      77.573097            22.085661   \nstd         126.354985     484.539080            15.211226   \nmin           0.000000       1.000000            -5.000000   \n25%           4.000000       8.000000            10.000000   \n50%           6.000000      15.000000            19.000000   \n75%           7.000000      22.000000            29.000000   \nmax        1499.000000    5797.000000            67.000000   \n\n       Num_of_Delayed_Payment  Changed_Credit_Limit  Num_Credit_Inquiries  \\\ncount            33402.000000          33401.000000          33399.000000   \nmean                32.578977             10.788656             28.006347   \nstd                232.884541              6.919779            192.461983   \nmin                  0.000000             -6.440000              0.000000   \n25%                  9.000000              5.660000              3.000000   \n50%                 14.000000              9.740000              6.000000   \n75%                 19.000000             15.500000              9.000000   \nmax               4397.000000             36.290000           2597.000000   \n\n       ...  Monthly_Balance  Count_Auto Loan  Count_Credit-Builder Loan  \\\ncount  ...     33401.000000     33401.000000               33400.000000   \nmean   ...       381.593738         0.422622                   0.453293   \nstd    ...       194.019292         0.660164                   0.691428   \nmin    ...         0.453456         0.000000                   0.000000   \n25%    ...       264.495337         0.000000                   0.000000   \n50%    ...       324.625891         0.000000                   0.000000   \n75%    ...       443.829323         1.000000                   1.000000   \nmax    ...      1552.946094         4.000000                   4.000000   \n\n       Count_Personal Loan  Count_Home Equity Loan  Count_Not Specified  \\\ncount         33400.000000            33401.000000         33398.000000   \nmean              0.440629                0.442113             0.442751   \nstd               0.675728                0.672521             0.669198   \nmin               0.000000                0.000000             0.000000   \n25%               0.000000                0.000000             0.000000   \n50%               0.000000                0.000000             0.000000   \n75%               1.000000                1.000000             1.000000   \nmax               4.000000                5.000000             4.000000   \n\n       Count_Mortgage Loan  Count_Student Loan  Count_Debt Consolidation Loan  \\\ncount         33402.000000        33402.000000                   33402.000000   \nmean              0.438596            0.440034                       0.433597   \nstd               0.663418            0.672246                       0.667527   \nmin               0.000000            0.000000                       0.000000   \n25%               0.000000            0.000000                       0.000000   \n50%               0.000000            0.000000                       0.000000   \n75%               1.000000            1.000000                       1.000000   \nmax               5.000000            5.000000                       5.000000   \n\n       Count_Payday Loan  \ncount       33402.000000  \nmean            0.456919  \nstd             0.686962  \nmin             0.000000  \n25%             0.000000  \n50%             0.000000  \n75%             1.000000  \nmax             5.000000  \n\n[8 rows x 25 columns]",
      "text/html": "<div>\n<style scoped>\n    .dataframe tbody tr th:only-of-type {\n        vertical-align: middle;\n    }\n\n    .dataframe tbody tr th {\n        vertical-align: top;\n    }\n\n    .dataframe thead th {\n        text-align: right;\n    }\n</style>\n<table border=\"1\" class=\"dataframe\">\n  <thead>\n    <tr style=\"text-align: right;\">\n      <th></th>\n      <th>Age</th>\n      <th>Annual_Income</th>\n      <th>Monthly_Inhand_Salary</th>\n      <th>Num_Bank_Accounts</th>\n      <th>Num_Credit_Card</th>\n      <th>Interest_Rate</th>\n      <th>Delay_from_due_date</th>\n      <th>Num_of_Delayed_Payment</th>\n      <th>Changed_Credit_Limit</th>\n      <th>Num_Credit_Inquiries</th>\n      <th>...</th>\n      <th>Monthly_Balance</th>\n      <th>Count_Auto Loan</th>\n      <th>Count_Credit-Builder Loan</th>\n      <th>Count_Personal Loan</th>\n      <th>Count_Home Equity Loan</th>\n      <th>Count_Not Specified</th>\n      <th>Count_Mortgage Loan</th>\n      <th>Count_Student Loan</th>\n      <th>Count_Debt Consolidation Loan</th>\n      <th>Count_Payday Loan</th>\n    </tr>\n  </thead>\n  <tbody>\n    <tr>\n      <th>count</th>\n      <td>33400.000000</td>\n      <td>3.340200e+04</td>\n      <td>33402.000000</td>\n      <td>33401.000000</td>\n      <td>33401.000000</td>\n      <td>33401.000000</td>\n      <td>33399.000000</td>\n      <td>33402.000000</td>\n      <td>33401.000000</td>\n      <td>33399.000000</td>\n      <td>...</td>\n      <td>33401.000000</td>\n      <td>33401.000000</td>\n      <td>33400.000000</td>\n      <td>33400.000000</td>\n      <td>33401.000000</td>\n      <td>33398.000000</td>\n      <td>33402.000000</td>\n      <td>33402.000000</td>\n      <td>33402.000000</td>\n      <td>33402.000000</td>\n    </tr>\n    <tr>\n      <th>mean</th>\n      <td>32.963503</td>\n      <td>1.804491e+05</td>\n      <td>4011.334675</td>\n      <td>17.670519</td>\n      <td>22.108410</td>\n      <td>77.573097</td>\n      <td>22.085661</td>\n      <td>32.578977</td>\n      <td>10.788656</td>\n      <td>28.006347</td>\n      <td>...</td>\n      <td>381.593738</td>\n      <td>0.422622</td>\n      <td>0.453293</td>\n      <td>0.440629</td>\n      <td>0.442113</td>\n      <td>0.442751</td>\n      <td>0.438596</td>\n      <td>0.440034</td>\n      <td>0.433597</td>\n      <td>0.456919</td>\n    </tr>\n    <tr>\n      <th>std</th>\n      <td>10.675508</td>\n      <td>1.461493e+06</td>\n      <td>3080.699813</td>\n      <td>121.454304</td>\n      <td>126.354985</td>\n      <td>484.539080</td>\n      <td>15.211226</td>\n      <td>232.884541</td>\n      <td>6.919779</td>\n      <td>192.461983</td>\n      <td>...</td>\n      <td>194.019292</td>\n      <td>0.660164</td>\n      <td>0.691428</td>\n      <td>0.675728</td>\n      <td>0.672521</td>\n      <td>0.669198</td>\n      <td>0.663418</td>\n      <td>0.672246</td>\n      <td>0.667527</td>\n      <td>0.686962</td>\n    </tr>\n    <tr>\n      <th>min</th>\n      <td>14.000000</td>\n      <td>7.005930e+03</td>\n      <td>303.645417</td>\n      <td>-1.000000</td>\n      <td>0.000000</td>\n      <td>1.000000</td>\n      <td>-5.000000</td>\n      <td>0.000000</td>\n      <td>-6.440000</td>\n      <td>0.000000</td>\n      <td>...</td>\n      <td>0.453456</td>\n      <td>0.000000</td>\n      <td>0.000000</td>\n      <td>0.000000</td>\n      <td>0.000000</td>\n      <td>0.000000</td>\n      <td>0.000000</td>\n      <td>0.000000</td>\n      <td>0.000000</td>\n      <td>0.000000</td>\n    </tr>\n    <tr>\n      <th>25%</th>\n      <td>24.000000</td>\n      <td>1.876272e+04</td>\n      <td>1572.182500</td>\n      <td>4.000000</td>\n      <td>4.000000</td>\n      <td>8.000000</td>\n      <td>10.000000</td>\n      <td>9.000000</td>\n      <td>5.660000</td>\n      <td>3.000000</td>\n      <td>...</td>\n      <td>264.495337</td>\n      <td>0.000000</td>\n      <td>0.000000</td>\n      <td>0.000000</td>\n      <td>0.000000</td>\n      <td>0.000000</td>\n      <td>0.000000</td>\n      <td>0.000000</td>\n      <td>0.000000</td>\n      <td>0.000000</td>\n    </tr>\n    <tr>\n      <th>50%</th>\n      <td>33.000000</td>\n      <td>3.594296e+04</td>\n      <td>2986.635833</td>\n      <td>6.000000</td>\n      <td>6.000000</td>\n      <td>15.000000</td>\n      <td>19.000000</td>\n      <td>14.000000</td>\n      <td>9.740000</td>\n      <td>6.000000</td>\n      <td>...</td>\n      <td>324.625891</td>\n      <td>0.000000</td>\n      <td>0.000000</td>\n      <td>0.000000</td>\n      <td>0.000000</td>\n      <td>0.000000</td>\n      <td>0.000000</td>\n      <td>0.000000</td>\n      <td>0.000000</td>\n      <td>0.000000</td>\n    </tr>\n    <tr>\n      <th>75%</th>\n      <td>41.000000</td>\n      <td>6.984559e+04</td>\n      <td>5712.257083</td>\n      <td>8.000000</td>\n      <td>7.000000</td>\n      <td>22.000000</td>\n      <td>29.000000</td>\n      <td>19.000000</td>\n      <td>15.500000</td>\n      <td>9.000000</td>\n      <td>...</td>\n      <td>443.829323</td>\n      <td>1.000000</td>\n      <td>1.000000</td>\n      <td>1.000000</td>\n      <td>1.000000</td>\n      <td>1.000000</td>\n      <td>1.000000</td>\n      <td>1.000000</td>\n      <td>1.000000</td>\n      <td>1.000000</td>\n    </tr>\n    <tr>\n      <th>max</th>\n      <td>95.000000</td>\n      <td>2.419806e+07</td>\n      <td>15204.633333</td>\n      <td>1798.000000</td>\n      <td>1499.000000</td>\n      <td>5797.000000</td>\n      <td>67.000000</td>\n      <td>4397.000000</td>\n      <td>36.290000</td>\n      <td>2597.000000</td>\n      <td>...</td>\n      <td>1552.946094</td>\n      <td>4.000000</td>\n      <td>4.000000</td>\n      <td>4.000000</td>\n      <td>5.000000</td>\n      <td>4.000000</td>\n      <td>5.000000</td>\n      <td>5.000000</td>\n      <td>5.000000</td>\n      <td>5.000000</td>\n    </tr>\n  </tbody>\n</table>\n<p>8 rows × 25 columns</p>\n</div>"
     },
     "metadata": {}
    }
   ]
  },
  {
   "cell_type": "code",
   "source": [
    "df.info()"
   ],
   "metadata": {
    "execution": {
     "iopub.status.busy": "2024-05-15T14:40:58.502238Z",
     "iopub.execute_input": "2024-05-15T14:40:58.502480Z",
     "iopub.status.idle": "2024-05-15T14:40:58.544244Z",
     "shell.execute_reply.started": "2024-05-15T14:40:58.502459Z",
     "shell.execute_reply": "2024-05-15T14:40:58.543427Z"
    },
    "trusted": true
   },
   "execution_count": 59,
   "outputs": [
    {
     "name": "stdout",
     "text": "<class 'pandas.core.frame.DataFrame'>\nRangeIndex: 33402 entries, 0 to 33401\nData columns (total 35 columns):\n #   Column                         Non-Null Count  Dtype  \n---  ------                         --------------  -----  \n 0   ID                             33402 non-null  object \n 1   Customer_ID                    33402 non-null  object \n 2   Month                          33400 non-null  object \n 3   Name                           33401 non-null  object \n 4   Age                            33400 non-null  float64\n 5   SSN                            33402 non-null  object \n 6   Occupation                     33400 non-null  object \n 7   Annual_Income                  33402 non-null  float64\n 8   Monthly_Inhand_Salary          33402 non-null  float64\n 9   Num_Bank_Accounts              33401 non-null  float64\n 10  Num_Credit_Card                33401 non-null  float64\n 11  Interest_Rate                  33401 non-null  float64\n 12  Delay_from_due_date            33399 non-null  float64\n 13  Num_of_Delayed_Payment         33402 non-null  int64  \n 14  Changed_Credit_Limit           33401 non-null  float64\n 15  Num_Credit_Inquiries           33399 non-null  float64\n 16  Credit_Mix                     33402 non-null  object \n 17  Outstanding_Debt               33402 non-null  float64\n 18  Credit_Utilization_Ratio       33402 non-null  float64\n 19  Credit_History_Age             33399 non-null  float64\n 20  Payment_of_Min_Amount          33402 non-null  object \n 21  Total_EMI_per_month            33398 non-null  float64\n 22  Amount_invested_monthly        33402 non-null  float64\n 23  Payment_Behaviour              33401 non-null  object \n 24  Monthly_Balance                33401 non-null  float64\n 25  Credit_Score                   33402 non-null  object \n 26  Count_Auto Loan                33401 non-null  float64\n 27  Count_Credit-Builder Loan      33400 non-null  float64\n 28  Count_Personal Loan            33400 non-null  float64\n 29  Count_Home Equity Loan         33401 non-null  float64\n 30  Count_Not Specified            33398 non-null  float64\n 31  Count_Mortgage Loan            33402 non-null  int64  \n 32  Count_Student Loan             33402 non-null  int64  \n 33  Count_Debt Consolidation Loan  33402 non-null  int64  \n 34  Count_Payday Loan              33402 non-null  int64  \ndtypes: float64(20), int64(5), object(10)\nmemory usage: 8.9+ MB\n",
     "output_type": "stream"
    }
   ]
  },
  {
   "cell_type": "code",
   "source": [
    "df=df.drop([\"Name\",\"SSN\",\"ID\",\"Customer_ID\"],axis=1)"
   ],
   "metadata": {
    "execution": {
     "iopub.status.busy": "2024-05-15T14:40:58.546597Z",
     "iopub.execute_input": "2024-05-15T14:40:58.546877Z",
     "iopub.status.idle": "2024-05-15T14:40:58.553821Z",
     "shell.execute_reply.started": "2024-05-15T14:40:58.546856Z",
     "shell.execute_reply": "2024-05-15T14:40:58.552964Z"
    },
    "trusted": true
   },
   "execution_count": 60,
   "outputs": []
  },
  {
   "cell_type": "code",
   "source": [
    "df.info()"
   ],
   "metadata": {
    "execution": {
     "iopub.status.busy": "2024-05-15T14:40:58.554954Z",
     "iopub.execute_input": "2024-05-15T14:40:58.555299Z",
     "iopub.status.idle": "2024-05-15T14:40:58.587026Z",
     "shell.execute_reply.started": "2024-05-15T14:40:58.555275Z",
     "shell.execute_reply": "2024-05-15T14:40:58.586154Z"
    },
    "trusted": true
   },
   "execution_count": 61,
   "outputs": [
    {
     "name": "stdout",
     "text": "<class 'pandas.core.frame.DataFrame'>\nRangeIndex: 33402 entries, 0 to 33401\nData columns (total 31 columns):\n #   Column                         Non-Null Count  Dtype  \n---  ------                         --------------  -----  \n 0   Month                          33400 non-null  object \n 1   Age                            33400 non-null  float64\n 2   Occupation                     33400 non-null  object \n 3   Annual_Income                  33402 non-null  float64\n 4   Monthly_Inhand_Salary          33402 non-null  float64\n 5   Num_Bank_Accounts              33401 non-null  float64\n 6   Num_Credit_Card                33401 non-null  float64\n 7   Interest_Rate                  33401 non-null  float64\n 8   Delay_from_due_date            33399 non-null  float64\n 9   Num_of_Delayed_Payment         33402 non-null  int64  \n 10  Changed_Credit_Limit           33401 non-null  float64\n 11  Num_Credit_Inquiries           33399 non-null  float64\n 12  Credit_Mix                     33402 non-null  object \n 13  Outstanding_Debt               33402 non-null  float64\n 14  Credit_Utilization_Ratio       33402 non-null  float64\n 15  Credit_History_Age             33399 non-null  float64\n 16  Payment_of_Min_Amount          33402 non-null  object \n 17  Total_EMI_per_month            33398 non-null  float64\n 18  Amount_invested_monthly        33402 non-null  float64\n 19  Payment_Behaviour              33401 non-null  object \n 20  Monthly_Balance                33401 non-null  float64\n 21  Credit_Score                   33402 non-null  object \n 22  Count_Auto Loan                33401 non-null  float64\n 23  Count_Credit-Builder Loan      33400 non-null  float64\n 24  Count_Personal Loan            33400 non-null  float64\n 25  Count_Home Equity Loan         33401 non-null  float64\n 26  Count_Not Specified            33398 non-null  float64\n 27  Count_Mortgage Loan            33402 non-null  int64  \n 28  Count_Student Loan             33402 non-null  int64  \n 29  Count_Debt Consolidation Loan  33402 non-null  int64  \n 30  Count_Payday Loan              33402 non-null  int64  \ndtypes: float64(20), int64(5), object(6)\nmemory usage: 7.9+ MB\n",
     "output_type": "stream"
    }
   ]
  },
  {
   "cell_type": "code",
   "source": [
    "nan_col=df.isna().sum()"
   ],
   "metadata": {
    "execution": {
     "iopub.status.busy": "2024-05-15T14:40:58.588048Z",
     "iopub.execute_input": "2024-05-15T14:40:58.588347Z",
     "iopub.status.idle": "2024-05-15T14:40:58.611825Z",
     "shell.execute_reply.started": "2024-05-15T14:40:58.588325Z",
     "shell.execute_reply": "2024-05-15T14:40:58.610733Z"
    },
    "trusted": true
   },
   "execution_count": 62,
   "outputs": []
  },
  {
   "cell_type": "code",
   "source": [
    "nan_col"
   ],
   "metadata": {
    "execution": {
     "iopub.status.busy": "2024-05-15T14:40:58.612906Z",
     "iopub.execute_input": "2024-05-15T14:40:58.613259Z",
     "iopub.status.idle": "2024-05-15T14:40:58.622368Z",
     "shell.execute_reply.started": "2024-05-15T14:40:58.613226Z",
     "shell.execute_reply": "2024-05-15T14:40:58.621578Z"
    },
    "trusted": true
   },
   "execution_count": 63,
   "outputs": [
    {
     "execution_count": 63,
     "output_type": "execute_result",
     "data": {
      "text/plain": "Month                            2\nAge                              2\nOccupation                       2\nAnnual_Income                    0\nMonthly_Inhand_Salary            0\nNum_Bank_Accounts                1\nNum_Credit_Card                  1\nInterest_Rate                    1\nDelay_from_due_date              3\nNum_of_Delayed_Payment           0\nChanged_Credit_Limit             1\nNum_Credit_Inquiries             3\nCredit_Mix                       0\nOutstanding_Debt                 0\nCredit_Utilization_Ratio         0\nCredit_History_Age               3\nPayment_of_Min_Amount            0\nTotal_EMI_per_month              4\nAmount_invested_monthly          0\nPayment_Behaviour                1\nMonthly_Balance                  1\nCredit_Score                     0\nCount_Auto Loan                  1\nCount_Credit-Builder Loan        2\nCount_Personal Loan              2\nCount_Home Equity Loan           1\nCount_Not Specified              4\nCount_Mortgage Loan              0\nCount_Student Loan               0\nCount_Debt Consolidation Loan    0\nCount_Payday Loan                0\ndtype: int64"
     },
     "metadata": {}
    }
   ]
  },
  {
   "cell_type": "code",
   "source": [
    "from sklearn.svm import SVC\n",
    "from sklearn.preprocessing import LabelEncoder\n",
    "from sklearn.pipeline import make_pipeline\n",
    "from sklearn.preprocessing import StandardScaler\n",
    "from sklearn.impute import SimpleImputer\n",
    "from sklearn.model_selection import GridSearchCV\n",
    "from sklearn.pipeline import Pipeline\n"
   ],
   "metadata": {
    "execution": {
     "iopub.status.busy": "2024-05-15T14:40:58.623482Z",
     "iopub.execute_input": "2024-05-15T14:40:58.623785Z",
     "iopub.status.idle": "2024-05-15T14:40:58.631500Z",
     "shell.execute_reply.started": "2024-05-15T14:40:58.623756Z",
     "shell.execute_reply": "2024-05-15T14:40:58.630678Z"
    },
    "trusted": true
   },
   "execution_count": 64,
   "outputs": []
  },
  {
   "cell_type": "code",
   "source": [
    "si=SimpleImputer(missing_values=np.nan, strategy='mean')"
   ],
   "metadata": {
    "execution": {
     "iopub.status.busy": "2024-05-15T14:40:58.632768Z",
     "iopub.execute_input": "2024-05-15T14:40:58.633538Z",
     "iopub.status.idle": "2024-05-15T14:40:58.640476Z",
     "shell.execute_reply.started": "2024-05-15T14:40:58.633506Z",
     "shell.execute_reply": "2024-05-15T14:40:58.639731Z"
    },
    "trusted": true
   },
   "execution_count": 65,
   "outputs": []
  },
  {
   "cell_type": "code",
   "source": [
    "df.info()"
   ],
   "metadata": {
    "execution": {
     "iopub.status.busy": "2024-05-15T14:40:58.641631Z",
     "iopub.execute_input": "2024-05-15T14:40:58.641904Z",
     "iopub.status.idle": "2024-05-15T14:40:58.673475Z",
     "shell.execute_reply.started": "2024-05-15T14:40:58.641873Z",
     "shell.execute_reply": "2024-05-15T14:40:58.672486Z"
    },
    "trusted": true
   },
   "execution_count": 66,
   "outputs": [
    {
     "name": "stdout",
     "text": "<class 'pandas.core.frame.DataFrame'>\nRangeIndex: 33402 entries, 0 to 33401\nData columns (total 31 columns):\n #   Column                         Non-Null Count  Dtype  \n---  ------                         --------------  -----  \n 0   Month                          33400 non-null  object \n 1   Age                            33400 non-null  float64\n 2   Occupation                     33400 non-null  object \n 3   Annual_Income                  33402 non-null  float64\n 4   Monthly_Inhand_Salary          33402 non-null  float64\n 5   Num_Bank_Accounts              33401 non-null  float64\n 6   Num_Credit_Card                33401 non-null  float64\n 7   Interest_Rate                  33401 non-null  float64\n 8   Delay_from_due_date            33399 non-null  float64\n 9   Num_of_Delayed_Payment         33402 non-null  int64  \n 10  Changed_Credit_Limit           33401 non-null  float64\n 11  Num_Credit_Inquiries           33399 non-null  float64\n 12  Credit_Mix                     33402 non-null  object \n 13  Outstanding_Debt               33402 non-null  float64\n 14  Credit_Utilization_Ratio       33402 non-null  float64\n 15  Credit_History_Age             33399 non-null  float64\n 16  Payment_of_Min_Amount          33402 non-null  object \n 17  Total_EMI_per_month            33398 non-null  float64\n 18  Amount_invested_monthly        33402 non-null  float64\n 19  Payment_Behaviour              33401 non-null  object \n 20  Monthly_Balance                33401 non-null  float64\n 21  Credit_Score                   33402 non-null  object \n 22  Count_Auto Loan                33401 non-null  float64\n 23  Count_Credit-Builder Loan      33400 non-null  float64\n 24  Count_Personal Loan            33400 non-null  float64\n 25  Count_Home Equity Loan         33401 non-null  float64\n 26  Count_Not Specified            33398 non-null  float64\n 27  Count_Mortgage Loan            33402 non-null  int64  \n 28  Count_Student Loan             33402 non-null  int64  \n 29  Count_Debt Consolidation Loan  33402 non-null  int64  \n 30  Count_Payday Loan              33402 non-null  int64  \ndtypes: float64(20), int64(5), object(6)\nmemory usage: 7.9+ MB\n",
     "output_type": "stream"
    }
   ]
  },
  {
   "cell_type": "code",
   "source": [
    "df.info()"
   ],
   "metadata": {
    "execution": {
     "iopub.status.busy": "2024-05-15T14:40:58.674650Z",
     "iopub.execute_input": "2024-05-15T14:40:58.675231Z",
     "iopub.status.idle": "2024-05-15T14:40:58.705020Z",
     "shell.execute_reply.started": "2024-05-15T14:40:58.675201Z",
     "shell.execute_reply": "2024-05-15T14:40:58.704206Z"
    },
    "trusted": true
   },
   "execution_count": 67,
   "outputs": [
    {
     "name": "stdout",
     "text": "<class 'pandas.core.frame.DataFrame'>\nRangeIndex: 33402 entries, 0 to 33401\nData columns (total 31 columns):\n #   Column                         Non-Null Count  Dtype  \n---  ------                         --------------  -----  \n 0   Month                          33400 non-null  object \n 1   Age                            33400 non-null  float64\n 2   Occupation                     33400 non-null  object \n 3   Annual_Income                  33402 non-null  float64\n 4   Monthly_Inhand_Salary          33402 non-null  float64\n 5   Num_Bank_Accounts              33401 non-null  float64\n 6   Num_Credit_Card                33401 non-null  float64\n 7   Interest_Rate                  33401 non-null  float64\n 8   Delay_from_due_date            33399 non-null  float64\n 9   Num_of_Delayed_Payment         33402 non-null  int64  \n 10  Changed_Credit_Limit           33401 non-null  float64\n 11  Num_Credit_Inquiries           33399 non-null  float64\n 12  Credit_Mix                     33402 non-null  object \n 13  Outstanding_Debt               33402 non-null  float64\n 14  Credit_Utilization_Ratio       33402 non-null  float64\n 15  Credit_History_Age             33399 non-null  float64\n 16  Payment_of_Min_Amount          33402 non-null  object \n 17  Total_EMI_per_month            33398 non-null  float64\n 18  Amount_invested_monthly        33402 non-null  float64\n 19  Payment_Behaviour              33401 non-null  object \n 20  Monthly_Balance                33401 non-null  float64\n 21  Credit_Score                   33402 non-null  object \n 22  Count_Auto Loan                33401 non-null  float64\n 23  Count_Credit-Builder Loan      33400 non-null  float64\n 24  Count_Personal Loan            33400 non-null  float64\n 25  Count_Home Equity Loan         33401 non-null  float64\n 26  Count_Not Specified            33398 non-null  float64\n 27  Count_Mortgage Loan            33402 non-null  int64  \n 28  Count_Student Loan             33402 non-null  int64  \n 29  Count_Debt Consolidation Loan  33402 non-null  int64  \n 30  Count_Payday Loan              33402 non-null  int64  \ndtypes: float64(20), int64(5), object(6)\nmemory usage: 7.9+ MB\n",
     "output_type": "stream"
    }
   ]
  },
  {
   "cell_type": "code",
   "source": [
    "df[\"Month\"],df['Occupation']"
   ],
   "metadata": {
    "execution": {
     "iopub.status.busy": "2024-05-15T14:40:58.706062Z",
     "iopub.execute_input": "2024-05-15T14:40:58.706393Z",
     "iopub.status.idle": "2024-05-15T14:40:58.713825Z",
     "shell.execute_reply.started": "2024-05-15T14:40:58.706370Z",
     "shell.execute_reply": "2024-05-15T14:40:58.712960Z"
    },
    "trusted": true
   },
   "execution_count": 68,
   "outputs": [
    {
     "execution_count": 68,
     "output_type": "execute_result",
     "data": {
      "text/plain": "(0            July\n 1        February\n 2             May\n 3            June\n 4          August\n            ...   \n 33397     January\n 33398    February\n 33399        July\n 33400      August\n 33401        June\n Name: Month, Length: 33402, dtype: object,\n 0        Scientist\n 1          Teacher\n 2          Teacher\n 3          Teacher\n 4          Teacher\n            ...    \n 33397    Architect\n 33398    Architect\n 33399    Architect\n 33400    Architect\n 33401     Mechanic\n Name: Occupation, Length: 33402, dtype: object)"
     },
     "metadata": {}
    }
   ]
  },
  {
   "cell_type": "code",
   "source": [
    "st = SimpleImputer(missing_values=np.nan, strategy=\"most_frequent\")\n",
    "\n",
    "df_imputed = pd.DataFrame(st.fit_transform(df), columns=df.columns)\n",
    "\n",
    "df=pd.DataFrame(df_imputed)\n",
    "df.info()\n",
    "df"
   ],
   "metadata": {
    "execution": {
     "iopub.status.busy": "2024-05-15T14:40:58.717319Z",
     "iopub.execute_input": "2024-05-15T14:40:58.717649Z",
     "iopub.status.idle": "2024-05-15T14:40:59.234650Z",
     "shell.execute_reply.started": "2024-05-15T14:40:58.717617Z",
     "shell.execute_reply": "2024-05-15T14:40:59.233700Z"
    },
    "trusted": true
   },
   "execution_count": 69,
   "outputs": [
    {
     "name": "stdout",
     "text": "<class 'pandas.core.frame.DataFrame'>\nRangeIndex: 33402 entries, 0 to 33401\nData columns (total 31 columns):\n #   Column                         Non-Null Count  Dtype \n---  ------                         --------------  ----- \n 0   Month                          33402 non-null  object\n 1   Age                            33402 non-null  object\n 2   Occupation                     33402 non-null  object\n 3   Annual_Income                  33402 non-null  object\n 4   Monthly_Inhand_Salary          33402 non-null  object\n 5   Num_Bank_Accounts              33402 non-null  object\n 6   Num_Credit_Card                33402 non-null  object\n 7   Interest_Rate                  33402 non-null  object\n 8   Delay_from_due_date            33402 non-null  object\n 9   Num_of_Delayed_Payment         33402 non-null  object\n 10  Changed_Credit_Limit           33402 non-null  object\n 11  Num_Credit_Inquiries           33402 non-null  object\n 12  Credit_Mix                     33402 non-null  object\n 13  Outstanding_Debt               33402 non-null  object\n 14  Credit_Utilization_Ratio       33402 non-null  object\n 15  Credit_History_Age             33402 non-null  object\n 16  Payment_of_Min_Amount          33402 non-null  object\n 17  Total_EMI_per_month            33402 non-null  object\n 18  Amount_invested_monthly        33402 non-null  object\n 19  Payment_Behaviour              33402 non-null  object\n 20  Monthly_Balance                33402 non-null  object\n 21  Credit_Score                   33402 non-null  object\n 22  Count_Auto Loan                33402 non-null  object\n 23  Count_Credit-Builder Loan      33402 non-null  object\n 24  Count_Personal Loan            33402 non-null  object\n 25  Count_Home Equity Loan         33402 non-null  object\n 26  Count_Not Specified            33402 non-null  object\n 27  Count_Mortgage Loan            33402 non-null  object\n 28  Count_Student Loan             33402 non-null  object\n 29  Count_Debt Consolidation Loan  33402 non-null  object\n 30  Count_Payday Loan              33402 non-null  object\ndtypes: object(31)\nmemory usage: 7.9+ MB\n",
     "output_type": "stream"
    },
    {
     "execution_count": 69,
     "output_type": "execute_result",
     "data": {
      "text/plain": "          Month   Age Occupation Annual_Income Monthly_Inhand_Salary  \\\n0          July  23.0  Scientist      19114.12           1824.843333   \n1      February  28.0    Teacher      34847.84           3037.986667   \n2           May  28.0    Teacher      34847.84           3037.986667   \n3          June  28.0    Teacher      34847.84           3037.986667   \n4        August  28.0    Teacher      34847.84           3037.986667   \n...         ...   ...        ...           ...                   ...   \n33397   January  28.0  Architect      20002.88           1929.906667   \n33398  February  28.0  Architect      20002.88           1929.906667   \n33399      July  28.0  Architect      20002.88           1929.906667   \n33400    August  29.0  Architect      20002.88           1929.906667   \n33401      June  25.0   Mechanic      39628.99           3359.415833   \n\n      Num_Bank_Accounts Num_Credit_Card Interest_Rate Delay_from_due_date  \\\n0                   3.0             4.0           3.0                 3.0   \n1                   2.0             4.0           6.0                 7.0   \n2                   2.0             4.0           6.0                 3.0   \n3                   2.0             4.0           6.0                 3.0   \n4                   2.0             4.0           6.0                 3.0   \n...                 ...             ...           ...                 ...   \n33397              10.0             8.0          29.0                35.0   \n33398              10.0             8.0          29.0                33.0   \n33399              10.0             8.0          29.0                33.0   \n33400              10.0             8.0          29.0                33.0   \n33401               4.0             6.0        5729.0                27.0   \n\n      Num_of_Delayed_Payment  ... Credit_Score Count_Auto Loan  \\\n0                          8  ...         Good             1.0   \n1                          1  ...         Good             0.0   \n2                          1  ...         Good             0.0   \n3                          0  ...         Good             0.0   \n4                          4  ...         Good             0.0   \n...                      ...  ...          ...             ...   \n33397                     26  ...         Poor             1.0   \n33398                     25  ...         Poor             1.0   \n33399                     26  ...     Standard             1.0   \n33400                     25  ...     Standard             1.0   \n33401                      6  ...         Poor             1.0   \n\n      Count_Credit-Builder Loan Count_Personal Loan Count_Home Equity Loan  \\\n0                           1.0                 1.0                    1.0   \n1                           1.0                 0.0                    0.0   \n2                           1.0                 0.0                    0.0   \n3                           1.0                 0.0                    0.0   \n4                           1.0                 0.0                    0.0   \n...                         ...                 ...                    ...   \n33397                       0.0                 1.0                    0.0   \n33398                       0.0                 1.0                    0.0   \n33399                       0.0                 1.0                    0.0   \n33400                       0.0                 1.0                    0.0   \n33401                       0.0                 0.0                    0.0   \n\n      Count_Not Specified Count_Mortgage Loan Count_Student Loan  \\\n0                     0.0                   0                  0   \n1                     0.0                   0                  0   \n2                     0.0                   0                  0   \n3                     0.0                   0                  0   \n4                     0.0                   0                  0   \n...                   ...                 ...                ...   \n33397                 0.0                   1                  2   \n33398                 0.0                   1                  2   \n33399                 0.0                   1                  2   \n33400                 0.0                   1                  2   \n33401                 0.0                   0                  1   \n\n      Count_Debt Consolidation Loan Count_Payday Loan  \n0                                 0                 0  \n1                                 0                 0  \n2                                 0                 0  \n3                                 0                 0  \n4                                 0                 0  \n...                             ...               ...  \n33397                             0                 0  \n33398                             0                 0  \n33399                             0                 0  \n33400                             0                 0  \n33401                             0                 0  \n\n[33402 rows x 31 columns]",
      "text/html": "<div>\n<style scoped>\n    .dataframe tbody tr th:only-of-type {\n        vertical-align: middle;\n    }\n\n    .dataframe tbody tr th {\n        vertical-align: top;\n    }\n\n    .dataframe thead th {\n        text-align: right;\n    }\n</style>\n<table border=\"1\" class=\"dataframe\">\n  <thead>\n    <tr style=\"text-align: right;\">\n      <th></th>\n      <th>Month</th>\n      <th>Age</th>\n      <th>Occupation</th>\n      <th>Annual_Income</th>\n      <th>Monthly_Inhand_Salary</th>\n      <th>Num_Bank_Accounts</th>\n      <th>Num_Credit_Card</th>\n      <th>Interest_Rate</th>\n      <th>Delay_from_due_date</th>\n      <th>Num_of_Delayed_Payment</th>\n      <th>...</th>\n      <th>Credit_Score</th>\n      <th>Count_Auto Loan</th>\n      <th>Count_Credit-Builder Loan</th>\n      <th>Count_Personal Loan</th>\n      <th>Count_Home Equity Loan</th>\n      <th>Count_Not Specified</th>\n      <th>Count_Mortgage Loan</th>\n      <th>Count_Student Loan</th>\n      <th>Count_Debt Consolidation Loan</th>\n      <th>Count_Payday Loan</th>\n    </tr>\n  </thead>\n  <tbody>\n    <tr>\n      <th>0</th>\n      <td>July</td>\n      <td>23.0</td>\n      <td>Scientist</td>\n      <td>19114.12</td>\n      <td>1824.843333</td>\n      <td>3.0</td>\n      <td>4.0</td>\n      <td>3.0</td>\n      <td>3.0</td>\n      <td>8</td>\n      <td>...</td>\n      <td>Good</td>\n      <td>1.0</td>\n      <td>1.0</td>\n      <td>1.0</td>\n      <td>1.0</td>\n      <td>0.0</td>\n      <td>0</td>\n      <td>0</td>\n      <td>0</td>\n      <td>0</td>\n    </tr>\n    <tr>\n      <th>1</th>\n      <td>February</td>\n      <td>28.0</td>\n      <td>Teacher</td>\n      <td>34847.84</td>\n      <td>3037.986667</td>\n      <td>2.0</td>\n      <td>4.0</td>\n      <td>6.0</td>\n      <td>7.0</td>\n      <td>1</td>\n      <td>...</td>\n      <td>Good</td>\n      <td>0.0</td>\n      <td>1.0</td>\n      <td>0.0</td>\n      <td>0.0</td>\n      <td>0.0</td>\n      <td>0</td>\n      <td>0</td>\n      <td>0</td>\n      <td>0</td>\n    </tr>\n    <tr>\n      <th>2</th>\n      <td>May</td>\n      <td>28.0</td>\n      <td>Teacher</td>\n      <td>34847.84</td>\n      <td>3037.986667</td>\n      <td>2.0</td>\n      <td>4.0</td>\n      <td>6.0</td>\n      <td>3.0</td>\n      <td>1</td>\n      <td>...</td>\n      <td>Good</td>\n      <td>0.0</td>\n      <td>1.0</td>\n      <td>0.0</td>\n      <td>0.0</td>\n      <td>0.0</td>\n      <td>0</td>\n      <td>0</td>\n      <td>0</td>\n      <td>0</td>\n    </tr>\n    <tr>\n      <th>3</th>\n      <td>June</td>\n      <td>28.0</td>\n      <td>Teacher</td>\n      <td>34847.84</td>\n      <td>3037.986667</td>\n      <td>2.0</td>\n      <td>4.0</td>\n      <td>6.0</td>\n      <td>3.0</td>\n      <td>0</td>\n      <td>...</td>\n      <td>Good</td>\n      <td>0.0</td>\n      <td>1.0</td>\n      <td>0.0</td>\n      <td>0.0</td>\n      <td>0.0</td>\n      <td>0</td>\n      <td>0</td>\n      <td>0</td>\n      <td>0</td>\n    </tr>\n    <tr>\n      <th>4</th>\n      <td>August</td>\n      <td>28.0</td>\n      <td>Teacher</td>\n      <td>34847.84</td>\n      <td>3037.986667</td>\n      <td>2.0</td>\n      <td>4.0</td>\n      <td>6.0</td>\n      <td>3.0</td>\n      <td>4</td>\n      <td>...</td>\n      <td>Good</td>\n      <td>0.0</td>\n      <td>1.0</td>\n      <td>0.0</td>\n      <td>0.0</td>\n      <td>0.0</td>\n      <td>0</td>\n      <td>0</td>\n      <td>0</td>\n      <td>0</td>\n    </tr>\n    <tr>\n      <th>...</th>\n      <td>...</td>\n      <td>...</td>\n      <td>...</td>\n      <td>...</td>\n      <td>...</td>\n      <td>...</td>\n      <td>...</td>\n      <td>...</td>\n      <td>...</td>\n      <td>...</td>\n      <td>...</td>\n      <td>...</td>\n      <td>...</td>\n      <td>...</td>\n      <td>...</td>\n      <td>...</td>\n      <td>...</td>\n      <td>...</td>\n      <td>...</td>\n      <td>...</td>\n      <td>...</td>\n    </tr>\n    <tr>\n      <th>33397</th>\n      <td>January</td>\n      <td>28.0</td>\n      <td>Architect</td>\n      <td>20002.88</td>\n      <td>1929.906667</td>\n      <td>10.0</td>\n      <td>8.0</td>\n      <td>29.0</td>\n      <td>35.0</td>\n      <td>26</td>\n      <td>...</td>\n      <td>Poor</td>\n      <td>1.0</td>\n      <td>0.0</td>\n      <td>1.0</td>\n      <td>0.0</td>\n      <td>0.0</td>\n      <td>1</td>\n      <td>2</td>\n      <td>0</td>\n      <td>0</td>\n    </tr>\n    <tr>\n      <th>33398</th>\n      <td>February</td>\n      <td>28.0</td>\n      <td>Architect</td>\n      <td>20002.88</td>\n      <td>1929.906667</td>\n      <td>10.0</td>\n      <td>8.0</td>\n      <td>29.0</td>\n      <td>33.0</td>\n      <td>25</td>\n      <td>...</td>\n      <td>Poor</td>\n      <td>1.0</td>\n      <td>0.0</td>\n      <td>1.0</td>\n      <td>0.0</td>\n      <td>0.0</td>\n      <td>1</td>\n      <td>2</td>\n      <td>0</td>\n      <td>0</td>\n    </tr>\n    <tr>\n      <th>33399</th>\n      <td>July</td>\n      <td>28.0</td>\n      <td>Architect</td>\n      <td>20002.88</td>\n      <td>1929.906667</td>\n      <td>10.0</td>\n      <td>8.0</td>\n      <td>29.0</td>\n      <td>33.0</td>\n      <td>26</td>\n      <td>...</td>\n      <td>Standard</td>\n      <td>1.0</td>\n      <td>0.0</td>\n      <td>1.0</td>\n      <td>0.0</td>\n      <td>0.0</td>\n      <td>1</td>\n      <td>2</td>\n      <td>0</td>\n      <td>0</td>\n    </tr>\n    <tr>\n      <th>33400</th>\n      <td>August</td>\n      <td>29.0</td>\n      <td>Architect</td>\n      <td>20002.88</td>\n      <td>1929.906667</td>\n      <td>10.0</td>\n      <td>8.0</td>\n      <td>29.0</td>\n      <td>33.0</td>\n      <td>25</td>\n      <td>...</td>\n      <td>Standard</td>\n      <td>1.0</td>\n      <td>0.0</td>\n      <td>1.0</td>\n      <td>0.0</td>\n      <td>0.0</td>\n      <td>1</td>\n      <td>2</td>\n      <td>0</td>\n      <td>0</td>\n    </tr>\n    <tr>\n      <th>33401</th>\n      <td>June</td>\n      <td>25.0</td>\n      <td>Mechanic</td>\n      <td>39628.99</td>\n      <td>3359.415833</td>\n      <td>4.0</td>\n      <td>6.0</td>\n      <td>5729.0</td>\n      <td>27.0</td>\n      <td>6</td>\n      <td>...</td>\n      <td>Poor</td>\n      <td>1.0</td>\n      <td>0.0</td>\n      <td>0.0</td>\n      <td>0.0</td>\n      <td>0.0</td>\n      <td>0</td>\n      <td>1</td>\n      <td>0</td>\n      <td>0</td>\n    </tr>\n  </tbody>\n</table>\n<p>33402 rows × 31 columns</p>\n</div>"
     },
     "metadata": {}
    }
   ]
  },
  {
   "cell_type": "code",
   "source": [
    "le=LabelEncoder();\n",
    "\n",
    "\n",
    "df[\"Month\"]=le.fit_transform(df['Month'])\n",
    "df[\"Occupation\"]=le.fit_transform(df['Occupation'])\n",
    "df[\"Credit_Mix\"]=le.fit_transform(df['Credit_Mix'])\n",
    "df[\"Payment_of_Min_Amount\"]=le.fit_transform(df['Payment_of_Min_Amount'])\n",
    "df[\"Credit_Score\"]=le.fit_transform(df['Credit_Score'])\n",
    "df[\"Payment_Behaviour\"]=le.fit_transform(df['Payment_Behaviour'])\n",
    "\n",
    "x=df.drop(\"Credit_Score\",axis=1)\n",
    "y=df[\"Credit_Score\"]\n",
    "X_train,X_test,y_train,y_test=train_test_split(x,y,train_size=0.8,test_size=0.2,random_state=1)\n"
   ],
   "metadata": {
    "execution": {
     "iopub.status.busy": "2024-05-15T14:40:59.235809Z",
     "iopub.execute_input": "2024-05-15T14:40:59.236122Z",
     "iopub.status.idle": "2024-05-15T14:40:59.330438Z",
     "shell.execute_reply.started": "2024-05-15T14:40:59.236073Z",
     "shell.execute_reply": "2024-05-15T14:40:59.329442Z"
    },
    "trusted": true
   },
   "execution_count": 70,
   "outputs": []
  },
  {
   "cell_type": "code",
   "source": [
    "df"
   ],
   "metadata": {
    "execution": {
     "iopub.status.busy": "2024-05-15T14:40:59.331586Z",
     "iopub.execute_input": "2024-05-15T14:40:59.331871Z",
     "iopub.status.idle": "2024-05-15T14:40:59.383497Z",
     "shell.execute_reply.started": "2024-05-15T14:40:59.331848Z",
     "shell.execute_reply": "2024-05-15T14:40:59.382611Z"
    },
    "trusted": true
   },
   "execution_count": 71,
   "outputs": [
    {
     "execution_count": 71,
     "output_type": "execute_result",
     "data": {
      "text/plain": "       Month   Age  Occupation Annual_Income Monthly_Inhand_Salary  \\\n0          4  23.0          12      19114.12           1824.843333   \n1          2  28.0          13      34847.84           3037.986667   \n2          7  28.0          13      34847.84           3037.986667   \n3          5  28.0          13      34847.84           3037.986667   \n4          1  28.0          13      34847.84           3037.986667   \n...      ...   ...         ...           ...                   ...   \n33397      3  28.0           1      20002.88           1929.906667   \n33398      2  28.0           1      20002.88           1929.906667   \n33399      4  28.0           1      20002.88           1929.906667   \n33400      1  29.0           1      20002.88           1929.906667   \n33401      5  25.0           9      39628.99           3359.415833   \n\n      Num_Bank_Accounts Num_Credit_Card Interest_Rate Delay_from_due_date  \\\n0                   3.0             4.0           3.0                 3.0   \n1                   2.0             4.0           6.0                 7.0   \n2                   2.0             4.0           6.0                 3.0   \n3                   2.0             4.0           6.0                 3.0   \n4                   2.0             4.0           6.0                 3.0   \n...                 ...             ...           ...                 ...   \n33397              10.0             8.0          29.0                35.0   \n33398              10.0             8.0          29.0                33.0   \n33399              10.0             8.0          29.0                33.0   \n33400              10.0             8.0          29.0                33.0   \n33401               4.0             6.0        5729.0                27.0   \n\n      Num_of_Delayed_Payment  ... Credit_Score Count_Auto Loan  \\\n0                          8  ...            0             1.0   \n1                          1  ...            0             0.0   \n2                          1  ...            0             0.0   \n3                          0  ...            0             0.0   \n4                          4  ...            0             0.0   \n...                      ...  ...          ...             ...   \n33397                     26  ...            1             1.0   \n33398                     25  ...            1             1.0   \n33399                     26  ...            2             1.0   \n33400                     25  ...            2             1.0   \n33401                      6  ...            1             1.0   \n\n       Count_Credit-Builder Loan Count_Personal Loan Count_Home Equity Loan  \\\n0                            1.0                 1.0                    1.0   \n1                            1.0                 0.0                    0.0   \n2                            1.0                 0.0                    0.0   \n3                            1.0                 0.0                    0.0   \n4                            1.0                 0.0                    0.0   \n...                          ...                 ...                    ...   \n33397                        0.0                 1.0                    0.0   \n33398                        0.0                 1.0                    0.0   \n33399                        0.0                 1.0                    0.0   \n33400                        0.0                 1.0                    0.0   \n33401                        0.0                 0.0                    0.0   \n\n      Count_Not Specified  Count_Mortgage Loan Count_Student Loan  \\\n0                     0.0                    0                  0   \n1                     0.0                    0                  0   \n2                     0.0                    0                  0   \n3                     0.0                    0                  0   \n4                     0.0                    0                  0   \n...                   ...                  ...                ...   \n33397                 0.0                    1                  2   \n33398                 0.0                    1                  2   \n33399                 0.0                    1                  2   \n33400                 0.0                    1                  2   \n33401                 0.0                    0                  1   \n\n      Count_Debt Consolidation Loan  Count_Payday Loan  \n0                                 0                  0  \n1                                 0                  0  \n2                                 0                  0  \n3                                 0                  0  \n4                                 0                  0  \n...                             ...                ...  \n33397                             0                  0  \n33398                             0                  0  \n33399                             0                  0  \n33400                             0                  0  \n33401                             0                  0  \n\n[33402 rows x 31 columns]",
      "text/html": "<div>\n<style scoped>\n    .dataframe tbody tr th:only-of-type {\n        vertical-align: middle;\n    }\n\n    .dataframe tbody tr th {\n        vertical-align: top;\n    }\n\n    .dataframe thead th {\n        text-align: right;\n    }\n</style>\n<table border=\"1\" class=\"dataframe\">\n  <thead>\n    <tr style=\"text-align: right;\">\n      <th></th>\n      <th>Month</th>\n      <th>Age</th>\n      <th>Occupation</th>\n      <th>Annual_Income</th>\n      <th>Monthly_Inhand_Salary</th>\n      <th>Num_Bank_Accounts</th>\n      <th>Num_Credit_Card</th>\n      <th>Interest_Rate</th>\n      <th>Delay_from_due_date</th>\n      <th>Num_of_Delayed_Payment</th>\n      <th>...</th>\n      <th>Credit_Score</th>\n      <th>Count_Auto Loan</th>\n      <th>Count_Credit-Builder Loan</th>\n      <th>Count_Personal Loan</th>\n      <th>Count_Home Equity Loan</th>\n      <th>Count_Not Specified</th>\n      <th>Count_Mortgage Loan</th>\n      <th>Count_Student Loan</th>\n      <th>Count_Debt Consolidation Loan</th>\n      <th>Count_Payday Loan</th>\n    </tr>\n  </thead>\n  <tbody>\n    <tr>\n      <th>0</th>\n      <td>4</td>\n      <td>23.0</td>\n      <td>12</td>\n      <td>19114.12</td>\n      <td>1824.843333</td>\n      <td>3.0</td>\n      <td>4.0</td>\n      <td>3.0</td>\n      <td>3.0</td>\n      <td>8</td>\n      <td>...</td>\n      <td>0</td>\n      <td>1.0</td>\n      <td>1.0</td>\n      <td>1.0</td>\n      <td>1.0</td>\n      <td>0.0</td>\n      <td>0</td>\n      <td>0</td>\n      <td>0</td>\n      <td>0</td>\n    </tr>\n    <tr>\n      <th>1</th>\n      <td>2</td>\n      <td>28.0</td>\n      <td>13</td>\n      <td>34847.84</td>\n      <td>3037.986667</td>\n      <td>2.0</td>\n      <td>4.0</td>\n      <td>6.0</td>\n      <td>7.0</td>\n      <td>1</td>\n      <td>...</td>\n      <td>0</td>\n      <td>0.0</td>\n      <td>1.0</td>\n      <td>0.0</td>\n      <td>0.0</td>\n      <td>0.0</td>\n      <td>0</td>\n      <td>0</td>\n      <td>0</td>\n      <td>0</td>\n    </tr>\n    <tr>\n      <th>2</th>\n      <td>7</td>\n      <td>28.0</td>\n      <td>13</td>\n      <td>34847.84</td>\n      <td>3037.986667</td>\n      <td>2.0</td>\n      <td>4.0</td>\n      <td>6.0</td>\n      <td>3.0</td>\n      <td>1</td>\n      <td>...</td>\n      <td>0</td>\n      <td>0.0</td>\n      <td>1.0</td>\n      <td>0.0</td>\n      <td>0.0</td>\n      <td>0.0</td>\n      <td>0</td>\n      <td>0</td>\n      <td>0</td>\n      <td>0</td>\n    </tr>\n    <tr>\n      <th>3</th>\n      <td>5</td>\n      <td>28.0</td>\n      <td>13</td>\n      <td>34847.84</td>\n      <td>3037.986667</td>\n      <td>2.0</td>\n      <td>4.0</td>\n      <td>6.0</td>\n      <td>3.0</td>\n      <td>0</td>\n      <td>...</td>\n      <td>0</td>\n      <td>0.0</td>\n      <td>1.0</td>\n      <td>0.0</td>\n      <td>0.0</td>\n      <td>0.0</td>\n      <td>0</td>\n      <td>0</td>\n      <td>0</td>\n      <td>0</td>\n    </tr>\n    <tr>\n      <th>4</th>\n      <td>1</td>\n      <td>28.0</td>\n      <td>13</td>\n      <td>34847.84</td>\n      <td>3037.986667</td>\n      <td>2.0</td>\n      <td>4.0</td>\n      <td>6.0</td>\n      <td>3.0</td>\n      <td>4</td>\n      <td>...</td>\n      <td>0</td>\n      <td>0.0</td>\n      <td>1.0</td>\n      <td>0.0</td>\n      <td>0.0</td>\n      <td>0.0</td>\n      <td>0</td>\n      <td>0</td>\n      <td>0</td>\n      <td>0</td>\n    </tr>\n    <tr>\n      <th>...</th>\n      <td>...</td>\n      <td>...</td>\n      <td>...</td>\n      <td>...</td>\n      <td>...</td>\n      <td>...</td>\n      <td>...</td>\n      <td>...</td>\n      <td>...</td>\n      <td>...</td>\n      <td>...</td>\n      <td>...</td>\n      <td>...</td>\n      <td>...</td>\n      <td>...</td>\n      <td>...</td>\n      <td>...</td>\n      <td>...</td>\n      <td>...</td>\n      <td>...</td>\n      <td>...</td>\n    </tr>\n    <tr>\n      <th>33397</th>\n      <td>3</td>\n      <td>28.0</td>\n      <td>1</td>\n      <td>20002.88</td>\n      <td>1929.906667</td>\n      <td>10.0</td>\n      <td>8.0</td>\n      <td>29.0</td>\n      <td>35.0</td>\n      <td>26</td>\n      <td>...</td>\n      <td>1</td>\n      <td>1.0</td>\n      <td>0.0</td>\n      <td>1.0</td>\n      <td>0.0</td>\n      <td>0.0</td>\n      <td>1</td>\n      <td>2</td>\n      <td>0</td>\n      <td>0</td>\n    </tr>\n    <tr>\n      <th>33398</th>\n      <td>2</td>\n      <td>28.0</td>\n      <td>1</td>\n      <td>20002.88</td>\n      <td>1929.906667</td>\n      <td>10.0</td>\n      <td>8.0</td>\n      <td>29.0</td>\n      <td>33.0</td>\n      <td>25</td>\n      <td>...</td>\n      <td>1</td>\n      <td>1.0</td>\n      <td>0.0</td>\n      <td>1.0</td>\n      <td>0.0</td>\n      <td>0.0</td>\n      <td>1</td>\n      <td>2</td>\n      <td>0</td>\n      <td>0</td>\n    </tr>\n    <tr>\n      <th>33399</th>\n      <td>4</td>\n      <td>28.0</td>\n      <td>1</td>\n      <td>20002.88</td>\n      <td>1929.906667</td>\n      <td>10.0</td>\n      <td>8.0</td>\n      <td>29.0</td>\n      <td>33.0</td>\n      <td>26</td>\n      <td>...</td>\n      <td>2</td>\n      <td>1.0</td>\n      <td>0.0</td>\n      <td>1.0</td>\n      <td>0.0</td>\n      <td>0.0</td>\n      <td>1</td>\n      <td>2</td>\n      <td>0</td>\n      <td>0</td>\n    </tr>\n    <tr>\n      <th>33400</th>\n      <td>1</td>\n      <td>29.0</td>\n      <td>1</td>\n      <td>20002.88</td>\n      <td>1929.906667</td>\n      <td>10.0</td>\n      <td>8.0</td>\n      <td>29.0</td>\n      <td>33.0</td>\n      <td>25</td>\n      <td>...</td>\n      <td>2</td>\n      <td>1.0</td>\n      <td>0.0</td>\n      <td>1.0</td>\n      <td>0.0</td>\n      <td>0.0</td>\n      <td>1</td>\n      <td>2</td>\n      <td>0</td>\n      <td>0</td>\n    </tr>\n    <tr>\n      <th>33401</th>\n      <td>5</td>\n      <td>25.0</td>\n      <td>9</td>\n      <td>39628.99</td>\n      <td>3359.415833</td>\n      <td>4.0</td>\n      <td>6.0</td>\n      <td>5729.0</td>\n      <td>27.0</td>\n      <td>6</td>\n      <td>...</td>\n      <td>1</td>\n      <td>1.0</td>\n      <td>0.0</td>\n      <td>0.0</td>\n      <td>0.0</td>\n      <td>0.0</td>\n      <td>0</td>\n      <td>1</td>\n      <td>0</td>\n      <td>0</td>\n    </tr>\n  </tbody>\n</table>\n<p>33402 rows × 31 columns</p>\n</div>"
     },
     "metadata": {}
    }
   ]
  },
  {
   "cell_type": "code",
   "source": [
    "svc=make_pipeline(StandardScaler(),SVC(gamma='auto',kernel=\"rbf\"))\n",
    "\n",
    "svc.fit(X_train,y_train)"
   ],
   "metadata": {
    "execution": {
     "iopub.status.busy": "2024-05-15T14:40:59.384793Z",
     "iopub.execute_input": "2024-05-15T14:40:59.385162Z",
     "iopub.status.idle": "2024-05-15T14:41:37.885272Z",
     "shell.execute_reply.started": "2024-05-15T14:40:59.385127Z",
     "shell.execute_reply": "2024-05-15T14:41:37.884383Z"
    },
    "trusted": true
   },
   "execution_count": 72,
   "outputs": [
    {
     "execution_count": 72,
     "output_type": "execute_result",
     "data": {
      "text/plain": "Pipeline(steps=[('standardscaler', StandardScaler()),\n                ('svc', SVC(gamma='auto'))])",
      "text/html": "<style>#sk-container-id-2 {color: black;background-color: white;}#sk-container-id-2 pre{padding: 0;}#sk-container-id-2 div.sk-toggleable {background-color: white;}#sk-container-id-2 label.sk-toggleable__label {cursor: pointer;display: block;width: 100%;margin-bottom: 0;padding: 0.3em;box-sizing: border-box;text-align: center;}#sk-container-id-2 label.sk-toggleable__label-arrow:before {content: \"▸\";float: left;margin-right: 0.25em;color: #696969;}#sk-container-id-2 label.sk-toggleable__label-arrow:hover:before {color: black;}#sk-container-id-2 div.sk-estimator:hover label.sk-toggleable__label-arrow:before {color: black;}#sk-container-id-2 div.sk-toggleable__content {max-height: 0;max-width: 0;overflow: hidden;text-align: left;background-color: #f0f8ff;}#sk-container-id-2 div.sk-toggleable__content pre {margin: 0.2em;color: black;border-radius: 0.25em;background-color: #f0f8ff;}#sk-container-id-2 input.sk-toggleable__control:checked~div.sk-toggleable__content {max-height: 200px;max-width: 100%;overflow: auto;}#sk-container-id-2 input.sk-toggleable__control:checked~label.sk-toggleable__label-arrow:before {content: \"▾\";}#sk-container-id-2 div.sk-estimator input.sk-toggleable__control:checked~label.sk-toggleable__label {background-color: #d4ebff;}#sk-container-id-2 div.sk-label input.sk-toggleable__control:checked~label.sk-toggleable__label {background-color: #d4ebff;}#sk-container-id-2 input.sk-hidden--visually {border: 0;clip: rect(1px 1px 1px 1px);clip: rect(1px, 1px, 1px, 1px);height: 1px;margin: -1px;overflow: hidden;padding: 0;position: absolute;width: 1px;}#sk-container-id-2 div.sk-estimator {font-family: monospace;background-color: #f0f8ff;border: 1px dotted black;border-radius: 0.25em;box-sizing: border-box;margin-bottom: 0.5em;}#sk-container-id-2 div.sk-estimator:hover {background-color: #d4ebff;}#sk-container-id-2 div.sk-parallel-item::after {content: \"\";width: 100%;border-bottom: 1px solid gray;flex-grow: 1;}#sk-container-id-2 div.sk-label:hover label.sk-toggleable__label {background-color: #d4ebff;}#sk-container-id-2 div.sk-serial::before {content: \"\";position: absolute;border-left: 1px solid gray;box-sizing: border-box;top: 0;bottom: 0;left: 50%;z-index: 0;}#sk-container-id-2 div.sk-serial {display: flex;flex-direction: column;align-items: center;background-color: white;padding-right: 0.2em;padding-left: 0.2em;position: relative;}#sk-container-id-2 div.sk-item {position: relative;z-index: 1;}#sk-container-id-2 div.sk-parallel {display: flex;align-items: stretch;justify-content: center;background-color: white;position: relative;}#sk-container-id-2 div.sk-item::before, #sk-container-id-2 div.sk-parallel-item::before {content: \"\";position: absolute;border-left: 1px solid gray;box-sizing: border-box;top: 0;bottom: 0;left: 50%;z-index: -1;}#sk-container-id-2 div.sk-parallel-item {display: flex;flex-direction: column;z-index: 1;position: relative;background-color: white;}#sk-container-id-2 div.sk-parallel-item:first-child::after {align-self: flex-end;width: 50%;}#sk-container-id-2 div.sk-parallel-item:last-child::after {align-self: flex-start;width: 50%;}#sk-container-id-2 div.sk-parallel-item:only-child::after {width: 0;}#sk-container-id-2 div.sk-dashed-wrapped {border: 1px dashed gray;margin: 0 0.4em 0.5em 0.4em;box-sizing: border-box;padding-bottom: 0.4em;background-color: white;}#sk-container-id-2 div.sk-label label {font-family: monospace;font-weight: bold;display: inline-block;line-height: 1.2em;}#sk-container-id-2 div.sk-label-container {text-align: center;}#sk-container-id-2 div.sk-container {/* jupyter's `normalize.less` sets `[hidden] { display: none; }` but bootstrap.min.css set `[hidden] { display: none !important; }` so we also need the `!important` here to be able to override the default hidden behavior on the sphinx rendered scikit-learn.org. See: https://github.com/scikit-learn/scikit-learn/issues/21755 */display: inline-block !important;position: relative;}#sk-container-id-2 div.sk-text-repr-fallback {display: none;}</style><div id=\"sk-container-id-2\" class=\"sk-top-container\"><div class=\"sk-text-repr-fallback\"><pre>Pipeline(steps=[(&#x27;standardscaler&#x27;, StandardScaler()),\n                (&#x27;svc&#x27;, SVC(gamma=&#x27;auto&#x27;))])</pre><b>In a Jupyter environment, please rerun this cell to show the HTML representation or trust the notebook. <br />On GitHub, the HTML representation is unable to render, please try loading this page with nbviewer.org.</b></div><div class=\"sk-container\" hidden><div class=\"sk-item sk-dashed-wrapped\"><div class=\"sk-label-container\"><div class=\"sk-label sk-toggleable\"><input class=\"sk-toggleable__control sk-hidden--visually\" id=\"sk-estimator-id-4\" type=\"checkbox\" ><label for=\"sk-estimator-id-4\" class=\"sk-toggleable__label sk-toggleable__label-arrow\">Pipeline</label><div class=\"sk-toggleable__content\"><pre>Pipeline(steps=[(&#x27;standardscaler&#x27;, StandardScaler()),\n                (&#x27;svc&#x27;, SVC(gamma=&#x27;auto&#x27;))])</pre></div></div></div><div class=\"sk-serial\"><div class=\"sk-item\"><div class=\"sk-estimator sk-toggleable\"><input class=\"sk-toggleable__control sk-hidden--visually\" id=\"sk-estimator-id-5\" type=\"checkbox\" ><label for=\"sk-estimator-id-5\" class=\"sk-toggleable__label sk-toggleable__label-arrow\">StandardScaler</label><div class=\"sk-toggleable__content\"><pre>StandardScaler()</pre></div></div></div><div class=\"sk-item\"><div class=\"sk-estimator sk-toggleable\"><input class=\"sk-toggleable__control sk-hidden--visually\" id=\"sk-estimator-id-6\" type=\"checkbox\" ><label for=\"sk-estimator-id-6\" class=\"sk-toggleable__label sk-toggleable__label-arrow\">SVC</label><div class=\"sk-toggleable__content\"><pre>SVC(gamma=&#x27;auto&#x27;)</pre></div></div></div></div></div></div></div>"
     },
     "metadata": {}
    }
   ]
  },
  {
   "cell_type": "code",
   "source": [
    "pred=svc.predict(X_test)"
   ],
   "metadata": {
    "execution": {
     "iopub.status.busy": "2024-05-15T14:41:37.886578Z",
     "iopub.execute_input": "2024-05-15T14:41:37.886922Z",
     "iopub.status.idle": "2024-05-15T14:41:46.061389Z",
     "shell.execute_reply.started": "2024-05-15T14:41:37.886888Z",
     "shell.execute_reply": "2024-05-15T14:41:46.060567Z"
    },
    "trusted": true
   },
   "execution_count": 73,
   "outputs": []
  },
  {
   "cell_type": "code",
   "source": [
    "pred"
   ],
   "metadata": {
    "execution": {
     "iopub.status.busy": "2024-05-15T14:41:46.062537Z",
     "iopub.execute_input": "2024-05-15T14:41:46.062824Z",
     "iopub.status.idle": "2024-05-15T14:41:46.068981Z",
     "shell.execute_reply.started": "2024-05-15T14:41:46.062799Z",
     "shell.execute_reply": "2024-05-15T14:41:46.068021Z"
    },
    "trusted": true
   },
   "execution_count": 74,
   "outputs": [
    {
     "execution_count": 74,
     "output_type": "execute_result",
     "data": {
      "text/plain": "array([2, 2, 2, ..., 2, 2, 1])"
     },
     "metadata": {}
    }
   ]
  },
  {
   "cell_type": "code",
   "source": [
    "from sklearn.metrics import accuracy_score"
   ],
   "metadata": {
    "execution": {
     "iopub.status.busy": "2024-05-15T14:41:46.070245Z",
     "iopub.execute_input": "2024-05-15T14:41:46.070644Z",
     "iopub.status.idle": "2024-05-15T14:41:46.076130Z",
     "shell.execute_reply.started": "2024-05-15T14:41:46.070618Z",
     "shell.execute_reply": "2024-05-15T14:41:46.075203Z"
    },
    "trusted": true
   },
   "execution_count": 75,
   "outputs": []
  },
  {
   "cell_type": "code",
   "source": [
    "print(accuracy_score(y_test,pred))"
   ],
   "metadata": {
    "execution": {
     "iopub.status.busy": "2024-05-15T14:41:46.082340Z",
     "iopub.execute_input": "2024-05-15T14:41:46.082608Z",
     "iopub.status.idle": "2024-05-15T14:41:46.088350Z",
     "shell.execute_reply.started": "2024-05-15T14:41:46.082585Z",
     "shell.execute_reply": "2024-05-15T14:41:46.087430Z"
    },
    "trusted": true
   },
   "execution_count": 76,
   "outputs": [
    {
     "name": "stdout",
     "text": "0.679988025744649\n",
     "output_type": "stream"
    }
   ]
  },
  {
   "cell_type": "code",
   "source": [],
   "metadata": {},
   "execution_count": null,
   "outputs": []
  }
 ]
}
